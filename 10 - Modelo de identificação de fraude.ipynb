{
 "cells": [
  {
   "cell_type": "markdown",
   "id": "c4f63fe4",
   "metadata": {},
   "source": [
    "# Criando um modelo de identificação de fraudes\n",
    "- https://www.kaggle.com/datasets/mlg-ulb/creditcardfraud\n",
    "- Informações da base:\n",
    "    - 'Time' (tempo): contém os segundos decorridos entre cada transação e a primeira transação no conjunto de dados. \n",
    "    - 'Amount' (valor): é o valor da transação \n",
    "    - 'Class' (classe): é a variável de resposta e assume valor 1 em caso de fraude e 0 caso contrário.\n",
    "    - \"Infelizmente, devido a questões de confidencialidade, não podemos fornecer os recursos originais e mais informações básicas sobre os dados. Características V1, V2, … V28 são os principais componentes obtidos com PCA\""
   ]
  },
  {
   "cell_type": "code",
   "execution_count": 1,
   "id": "e44b0d6c",
   "metadata": {},
   "outputs": [],
   "source": [
    "import warnings\n",
    "warnings.filterwarnings('ignore')"
   ]
  },
  {
   "cell_type": "code",
   "execution_count": 2,
   "id": "12d67019",
   "metadata": {},
   "outputs": [],
   "source": [
    "# Importando o pandas\n",
    "import pandas as pd"
   ]
  },
  {
   "cell_type": "code",
   "execution_count": 3,
   "id": "4a2f7f48",
   "metadata": {},
   "outputs": [],
   "source": [
    "# Importando a base\n",
    "transacoes = pd.read_csv('creditcard.csv')"
   ]
  },
  {
   "cell_type": "markdown",
   "id": "be255517",
   "metadata": {},
   "source": [
    "<a id='modelo'></a>\n",
    "### Criando um modelo de aprendizado de máquinas para identificar fraude\n",
    "- Vamos criar um modelo para identificar fraude sem fazer nenhum tratamento nessa base"
   ]
  },
  {
   "cell_type": "markdown",
   "id": "23983ace",
   "metadata": {},
   "source": [
    "**Podemos ajustar as colunas Time e Amount para que elas fiquem entre 0 e 1**"
   ]
  },
  {
   "cell_type": "code",
   "execution_count": 4,
   "id": "5be7b6aa",
   "metadata": {},
   "outputs": [],
   "source": [
    "# Primeiro para a coluna Time\n",
    "transacoes.Time = transacoes.Time / transacoes.Time.max()"
   ]
  },
  {
   "cell_type": "code",
   "execution_count": 5,
   "id": "a2ede8d4",
   "metadata": {},
   "outputs": [],
   "source": [
    "# E então para a coluna Amount\n",
    "transacoes.Amount = transacoes.Amount / transacoes.Amount.max()"
   ]
  },
  {
   "cell_type": "code",
   "execution_count": 6,
   "id": "f47e3e07",
   "metadata": {},
   "outputs": [],
   "source": [
    "# Separando X e y\n",
    "X = transacoes.drop('Class',axis=1)\n",
    "y = transacoes.Class"
   ]
  },
  {
   "cell_type": "markdown",
   "id": "7f018f9c",
   "metadata": {},
   "source": [
    "**Separando em treino e teste**\n",
    "- https://scikit-learn.org/stable/modules/generated/sklearn.model_selection.train_test_split.html"
   ]
  },
  {
   "cell_type": "code",
   "execution_count": 7,
   "id": "42276fc7",
   "metadata": {},
   "outputs": [],
   "source": [
    "# Separando em treino e teste\n",
    "from sklearn.model_selection import train_test_split\n",
    "X_train, X_test, y_train, y_test = train_test_split(X, y, test_size=0.33, random_state=0,stratify=y)"
   ]
  },
  {
   "cell_type": "markdown",
   "id": "71ab673d",
   "metadata": {},
   "source": [
    "### Realizando o random undersampling\n",
    "- https://imbalanced-learn.org/stable/references/generated/imblearn.under_sampling.RandomUnderSampler.html"
   ]
  },
  {
   "cell_type": "code",
   "execution_count": 8,
   "id": "f22e5077",
   "metadata": {},
   "outputs": [],
   "source": [
    "# Importando o RandomUnderSampler do imblearn\n",
    "from imblearn.under_sampling import RandomUnderSampler "
   ]
  },
  {
   "cell_type": "code",
   "execution_count": 9,
   "id": "14b236fb",
   "metadata": {},
   "outputs": [],
   "source": [
    "# Definindo o RandomUnderSampler\n",
    "rus = RandomUnderSampler(random_state=42)"
   ]
  },
  {
   "cell_type": "code",
   "execution_count": 10,
   "id": "88ed93b9",
   "metadata": {},
   "outputs": [],
   "source": [
    "# Definindo a nova amostra\n",
    "X_resRU, y_resRU = rus.fit_resample(X_train, y_train)"
   ]
  },
  {
   "cell_type": "markdown",
   "id": "9692bc5e",
   "metadata": {},
   "source": [
    "<a id='modelos'></a>\n",
    "### Tivemos como os melhores hiperparâmetros:\n",
    "- Regressão Logística:\n",
    "    - {'C': 0.001, 'solver': 'liblinear'}\\\n",
    "- SVC:\n",
    "    - {'C': 100, 'gamma': 'auto', 'kernel': 'rbf'}\n",
    "- Random Forest:\n",
    "    - {'criterion': 'gini', 'max_depth': 9, 'n_estimators': 30}"
   ]
  },
  {
   "cell_type": "code",
   "execution_count": 11,
   "id": "d8af7f63",
   "metadata": {},
   "outputs": [],
   "source": [
    "# Importando a matriz de confusão\n",
    "from sklearn.metrics import confusion_matrix\n",
    "from sklearn.metrics import recall_score"
   ]
  },
  {
   "cell_type": "code",
   "execution_count": 12,
   "id": "db7482e5",
   "metadata": {},
   "outputs": [
    {
     "data": {
      "text/plain": [
       "array([[85217,  8608],\n",
       "       [   10,   152]], dtype=int64)"
      ]
     },
     "execution_count": 12,
     "metadata": {},
     "output_type": "execute_result"
    }
   ],
   "source": [
    "# Regressão Logística\n",
    "from sklearn.linear_model import LogisticRegression\n",
    "\n",
    "clf_RL = LogisticRegression(random_state=0,\n",
    "                             C=0.001,\n",
    "                             solver='liblinear').fit(X_resRU, y_resRU)\n",
    "\n",
    "y_pred_RL = clf_RL.predict(X_test)\n",
    "\n",
    "confusion_matrix(y_test,y_pred_RL)"
   ]
  },
  {
   "cell_type": "code",
   "execution_count": 13,
   "id": "672723d9",
   "metadata": {},
   "outputs": [
    {
     "data": {
      "text/plain": [
       "array([[85791,  8034],\n",
       "       [   12,   150]], dtype=int64)"
      ]
     },
     "execution_count": 13,
     "metadata": {},
     "output_type": "execute_result"
    }
   ],
   "source": [
    "# SVC\n",
    "from sklearn.svm import SVC\n",
    "\n",
    "clf_SVC = SVC(random_state=0,\n",
    "              probability=True,\n",
    "             C=100,gamma='auto',\n",
    "             kernel='rbf').fit(X_resRU, y_resRU)\n",
    "\n",
    "y_pred_SVC = clf_SVC.predict(X_test)\n",
    "\n",
    "confusion_matrix(y_test,y_pred_SVC)"
   ]
  },
  {
   "cell_type": "code",
   "execution_count": 14,
   "id": "47598fc4",
   "metadata": {},
   "outputs": [
    {
     "data": {
      "text/plain": [
       "0.9259259259259259"
      ]
     },
     "execution_count": 14,
     "metadata": {},
     "output_type": "execute_result"
    }
   ],
   "source": [
    "recall_score(y_test,y_pred_SVC)"
   ]
  },
  {
   "cell_type": "code",
   "execution_count": 15,
   "id": "2cbac5ff",
   "metadata": {},
   "outputs": [
    {
     "data": {
      "text/plain": [
       "array([[91476,  2349],\n",
       "       [   19,   143]], dtype=int64)"
      ]
     },
     "execution_count": 15,
     "metadata": {},
     "output_type": "execute_result"
    }
   ],
   "source": [
    "# Random Forest\n",
    "from sklearn.ensemble import RandomForestClassifier\n",
    "\n",
    "clf_RF = RandomForestClassifier(max_depth=9, \n",
    "                                random_state=0,\n",
    "                                criterion='gini',\n",
    "                                n_estimators=30).fit(X_resRU, y_resRU)\n",
    "\n",
    "y_pred_RF = clf_RF.predict(X_test)\n",
    "\n",
    "confusion_matrix(y_test,y_pred_RF)"
   ]
  },
  {
   "cell_type": "code",
   "execution_count": 16,
   "id": "f52d03f7",
   "metadata": {},
   "outputs": [
    {
     "data": {
      "text/plain": [
       "0.8827160493827161"
      ]
     },
     "execution_count": 16,
     "metadata": {},
     "output_type": "execute_result"
    }
   ],
   "source": [
    "recall_score(y_test,y_pred_RF)"
   ]
  },
  {
   "cell_type": "markdown",
   "id": "e3ffaeb7",
   "metadata": {},
   "source": [
    "### Podemos começar adicionando novos parâmetros"
   ]
  },
  {
   "cell_type": "markdown",
   "id": "e0c3b065",
   "metadata": {},
   "source": [
    "**E novamente utilizar o `GridSearchCV`**\n",
    "- https://scikit-learn.org/stable/modules/generated/sklearn.model_selection.GridSearchCV.html"
   ]
  },
  {
   "cell_type": "code",
   "execution_count": 17,
   "id": "65c87b9c",
   "metadata": {},
   "outputs": [],
   "source": [
    "# Importando o GridSearchCV\n",
    "from sklearn.model_selection import GridSearchCV"
   ]
  },
  {
   "cell_type": "code",
   "execution_count": 18,
   "id": "6fd361e3",
   "metadata": {},
   "outputs": [],
   "source": [
    "# Adicionando novos parâmetros\n",
    "parametros = {\n",
    "    'C': [0.001,0.01,0.1,1,10,100,1000],\n",
    "    'solver': ['newton-cg','lbfgs','liblinear','sag','saga']\n",
    "}"
   ]
  },
  {
   "cell_type": "code",
   "execution_count": 19,
   "id": "45a3e0b3",
   "metadata": {},
   "outputs": [],
   "source": [
    "# Selecionando a Regressão Logística\n",
    "LogReg = LogisticRegression(random_state=42)"
   ]
  },
  {
   "cell_type": "code",
   "execution_count": 20,
   "id": "d3c2cc67",
   "metadata": {},
   "outputs": [],
   "source": [
    "# Criando o classificador\n",
    "clf_RL2 = GridSearchCV(LogReg, parametros,\n",
    "                       scoring='recall'\n",
    "                      ).fit(X_resRU,y_resRU)"
   ]
  },
  {
   "cell_type": "code",
   "execution_count": 21,
   "id": "6641c775",
   "metadata": {},
   "outputs": [
    {
     "data": {
      "text/plain": [
       "array([[85217,  8608],\n",
       "       [   10,   152]], dtype=int64)"
      ]
     },
     "execution_count": 21,
     "metadata": {},
     "output_type": "execute_result"
    }
   ],
   "source": [
    "# E avaliando o modelo\n",
    "y_pred_RL2 = clf_RL2.predict(X_test)\n",
    "\n",
    "confusion_matrix(y_test,y_pred_RL2)"
   ]
  },
  {
   "cell_type": "code",
   "execution_count": 22,
   "id": "cc1de86f",
   "metadata": {},
   "outputs": [
    {
     "data": {
      "text/plain": [
       "0.9382716049382716"
      ]
     },
     "execution_count": 22,
     "metadata": {},
     "output_type": "execute_result"
    }
   ],
   "source": [
    "# Recall apenas com C e solver\n",
    "recall_score(y_test,y_pred_RL)"
   ]
  },
  {
   "cell_type": "code",
   "execution_count": 23,
   "id": "3ce8c46e",
   "metadata": {},
   "outputs": [
    {
     "data": {
      "text/plain": [
       "0.9382716049382716"
      ]
     },
     "execution_count": 23,
     "metadata": {},
     "output_type": "execute_result"
    }
   ],
   "source": [
    "# Recall com todos os parâmetros\n",
    "recall_score(y_test,y_pred_RL2)"
   ]
  },
  {
   "cell_type": "markdown",
   "id": "622f8477",
   "metadata": {},
   "source": [
    "### Podemos selecionar outras formas de fazer o undersampling\n",
    "- Podemos utilizar o NearMiss:\n",
    "    - https://imbalanced-learn.org/stable/references/generated/imblearn.under_sampling.NearMiss.html#imblearn.under_sampling.NearMiss\n",
    "- Ou o ClusterCentroids:\n",
    "    - https://imbalanced-learn.org/stable/references/generated/imblearn.under_sampling.ClusterCentroids.html"
   ]
  },
  {
   "cell_type": "code",
   "execution_count": 24,
   "id": "0e2a8397",
   "metadata": {},
   "outputs": [],
   "source": [
    "# Fazendo o resample\n",
    "from imblearn.under_sampling import ClusterCentroids \n",
    "cc = ClusterCentroids(random_state=42)\n",
    "X_resCC, y_resCC = cc.fit_resample(X_train, y_train)"
   ]
  },
  {
   "cell_type": "markdown",
   "id": "b43ce213",
   "metadata": {},
   "source": [
    "**Podemos então [voltar nos modelos](#modelos) com esse novo resample**"
   ]
  },
  {
   "cell_type": "markdown",
   "id": "2d10d8b9",
   "metadata": {},
   "source": [
    "### Além disso, também é possível adicionar novas métricas no scoring (como, por exemplo, adicionar a precisão além do recall)"
   ]
  },
  {
   "cell_type": "code",
   "execution_count": 25,
   "id": "5e48cf8c",
   "metadata": {},
   "outputs": [],
   "source": [
    "# Criando o classificador\n",
    "clf_RL3 = GridSearchCV(LogReg, parametros,\n",
    "                       scoring=['recall','precision'],\n",
    "                       refit='recall'\n",
    "                      )"
   ]
  },
  {
   "cell_type": "code",
   "execution_count": 26,
   "id": "387c45b5",
   "metadata": {},
   "outputs": [],
   "source": [
    "clf_RL3 = clf_RL3.fit(X_resRU,y_resRU)"
   ]
  },
  {
   "cell_type": "code",
   "execution_count": 27,
   "id": "d997c54d",
   "metadata": {},
   "outputs": [
    {
     "data": {
      "text/plain": [
       "array([[85217,  8608],\n",
       "       [   10,   152]], dtype=int64)"
      ]
     },
     "execution_count": 27,
     "metadata": {},
     "output_type": "execute_result"
    }
   ],
   "source": [
    "# Avaliando o novo modelo\n",
    "y_pred_RL3 = clf_RL3.predict(X_test)\n",
    "\n",
    "confusion_matrix(y_test,y_pred_RL3)"
   ]
  },
  {
   "cell_type": "markdown",
   "id": "63002f7a",
   "metadata": {},
   "source": [
    "### Também seria possível fazer o oversampling, lembrando que existe um custo de tempo para isso"
   ]
  },
  {
   "cell_type": "code",
   "execution_count": 28,
   "id": "ca3dacc5",
   "metadata": {},
   "outputs": [],
   "source": [
    "# Utilizando o ADASYN para o oversampling\n",
    "from imblearn.over_sampling import ADASYN \n",
    "X_resA, y_resA = ADASYN(random_state=42).fit_resample(X_train, y_train)"
   ]
  },
  {
   "cell_type": "code",
   "execution_count": 29,
   "id": "de0b2982",
   "metadata": {},
   "outputs": [],
   "source": [
    "# Vamos usar o datetime só para nós dar uma ideia do tempo de processamento\n",
    "import datetime as dt"
   ]
  },
  {
   "cell_type": "code",
   "execution_count": null,
   "id": "8ade8ece",
   "metadata": {},
   "outputs": [
    {
     "name": "stdout",
     "output_type": "stream",
     "text": [
      "2023-11-14 00:16:04.314568\n"
     ]
    }
   ],
   "source": [
    "# Copiando exatamente o mesmo código e adicionando apenas o print da hora atual\n",
    "print(dt.datetime.now())\n",
    "\n",
    "clf_RL4 = GridSearchCV(LogReg, parametros,\n",
    "                       scoring=['recall','precision'],\n",
    "                       refit='recall'\n",
    "                      )\n",
    "\n",
    "clf_RL4 = clf_RL4.fit(X_resA, y_resA)\n",
    "\n",
    "print(dt.datetime.now())"
   ]
  }
 ],
 "metadata": {
  "kernelspec": {
   "display_name": "Python 3 (ipykernel)",
   "language": "python",
   "name": "python3"
  },
  "language_info": {
   "codemirror_mode": {
    "name": "ipython",
    "version": 3
   },
   "file_extension": ".py",
   "mimetype": "text/x-python",
   "name": "python",
   "nbconvert_exporter": "python",
   "pygments_lexer": "ipython3",
   "version": "3.11.5"
  }
 },
 "nbformat": 4,
 "nbformat_minor": 5
}
